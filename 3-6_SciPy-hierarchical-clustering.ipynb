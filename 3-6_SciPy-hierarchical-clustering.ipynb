{
 "cells": [
  {
   "cell_type": "markdown",
   "metadata": {},
   "source": [
    "# 階層型クラスタリング\n",
    "階層型クラスタリングは、階層的なクラスタ構造をとる。\n",
    "\n",
    "作り方\n",
    "\n",
    "①クラスタ化したいすべての点またはグループについて、他の点またはグループの距離を計算する。※\n",
    "\n",
    "②距離が最小である二つの点またはグループを結合して、一つのグループとする。\n",
    "\n",
    "③再度ステップ①②を実行する。\n",
    "\n",
    "④すべての点またはグループが一つにまとまった時点で終了する。\n",
    "\n",
    "※距離の計算方法は複数ある。\n",
    "\n",
    "- 最長距離法\n",
    "- 最短距離法\n",
    "- 重心方\n",
    "- 群平均法\n",
    "- word法"
   ]
  },
  {
   "cell_type": "code",
   "execution_count": 1,
   "metadata": {},
   "outputs": [],
   "source": [
    "# 3-6 SciPy パッケージを使った階層的クラスタリングのプログラム例\n",
    "import numpy as np\n",
    "from scipy.cluster.hierarchy import dendrogram, linkage\n",
    "from scipy.spatial.distance import pdist\n",
    "import matplotlib.pyplot as plt"
   ]
  },
  {
   "cell_type": "code",
   "execution_count": 2,
   "metadata": {},
   "outputs": [
    {
     "data": {
      "image/png": "[encoded data removed]",
      "text/plain": [
       "<matplotlib.figure.Figure at 0x26646aff4a8>"
      ]
     },
     "metadata": {},
     "output_type": "display_data"
    }
   ],
   "source": [
    "X = np.array([[1,2], \n",
    "              [2,1], \n",
    "              [3,4], \n",
    "              [4,3]])\n",
    "Z = linkage(X, 'single')  # Ward法を使うならば'single'の代わりに'ward'を指定する\n",
    "dendrogram(\n",
    "    Z,\n",
    "    labels = ['a', 'b', 'c', 'd']\n",
    ")\n",
    "\n",
    "plt.title('階層的クラスタリングの結果（樹形図）')\n",
    "plt.ylabel('距離')\n",
    "plt.show()"
   ]
  }
 ],
 "metadata": {
  "kernelspec": {
   "display_name": "Python 3",
   "language": "python",
   "name": "python3"
  },
  "language_info": {
   "codemirror_mode": {
    "name": "ipython",
    "version": 3
   },
   "file_extension": ".py",
   "mimetype": "text/x-python",
   "name": "python",
   "nbconvert_exporter": "python",
   "pygments_lexer": "ipython3",
   "version": "3.6.4"
  }
 },
 "nbformat": 4,
 "nbformat_minor": 2
}
