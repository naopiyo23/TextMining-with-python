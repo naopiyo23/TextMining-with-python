{
 "cells": [
  {
   "cell_type": "code",
   "execution_count": 2,
   "metadata": {},
   "outputs": [
    {
     "name": "stdout",
     "output_type": "stream",
     "text": [
      "[(12, 360), (10, 359), (8, 355), (9, 352), (11, 346), (14, 337), (13, 331), (7, 325), (15, 307), (16, 301), (19, 280), (6, 271), (18, 271), (17, 254), (20, 252), (21, 242), (22, 213), (5, 203), (23, 192), (26, 185), (24, 185), (27, 168), (29, 167), (25, 166), (28, 153), (4, 151), (30, 144), (31, 132), (33, 116), (32, 114), (35, 108), (34, 102), (37, 98), (39, 96), (38, 95), (36, 91), (41, 80), (40, 77), (44, 69), (42, 66), (43, 57), (45, 52), (46, 52), (48, 44), (47, 44), (53, 44), (52, 39), (3, 38), (50, 38), (54, 30), (51, 30), (56, 30), (49, 25), (55, 24), (60, 23), (62, 23), (57, 19), (61, 19), (66, 18), (58, 18), (59, 17), (64, 17), (65, 14), (67, 14), (2, 13), (70, 13), (79, 13), (68, 11), (63, 11), (72, 11), (69, 8), (77, 8), (80, 8), (76, 8), (86, 7), (73, 6), (78, 6), (75, 6), (71, 6), (82, 5), (81, 5), (74, 4), (87, 4), (83, 4), (85, 4), (88, 3), (105, 3), (95, 3), (108, 3), (100, 3), (103, 3), (93, 3), (89, 2), (160, 2), (197, 2), (91, 2), (104, 2), (102, 2), (90, 2), (84, 2)]\n"
     ]
    },
    {
     "data": {
      "image/png": "[encoded data removed]",
      "text/plain": [
       "<matplotlib.figure.Figure at 0x2909778d710>"
      ]
     },
     "metadata": {},
     "output_type": "display_data"
    }
   ],
   "source": [
    "# -*- coding: utf-8 -*-\n",
    "# リスト 4-3  文ごとに単語に分解し、出現頻度を数える\n",
    "from collections import Counter\n",
    "import re\n",
    "import numpy as np\n",
    "import matplotlib.pyplot as plt\n",
    "from aozora import Aozora\n",
    "import MeCab\n",
    " \n",
    "aozora = Aozora(\"wagahaiwa_nekodearu.txt\")\n",
    " \n",
    "# 入力テキストを文に分解する。単純に'。'で分割する\n",
    "string = '\\n'.join(aozora.read())\n",
    "string = re.sub('　', '', string)\n",
    "string = re.split('。(?!」)|\\n', re.sub('　', '', string))\n",
    "while '' in string:  string.remove('')      # 空行を除く\n",
    " \n",
    "# 文ごとに形態素解析して、文当たりの語の数を数える\n",
    "m = MeCab.Tagger(\"-Ochasen\")                # MeCabで単語に分割する\n",
    "wordcountlist = []\n",
    "for sentense in string:\n",
    "    mecablist = []\n",
    "    wlist = m.parse(sentense).splitlines()  # 結果を単語情報リストのリストに整形する\n",
    "    for u in wlist:\n",
    "        xlist = []\n",
    "        for v in u.split():\n",
    "           xlist.append(v)\n",
    "        mecablist.append(xlist)\n",
    "    # 得られた単語情報リストのリストから、単語の部分だけを取り出したリストを作る\n",
    "    wordbodylist = []\n",
    "    for u in mecablist:\n",
    "        wordbodylist.append(u[0])\n",
    "    # 単語数のリストを作る\n",
    "    wordcountlist.append(len(wordbodylist))\n",
    " \n",
    "cnt = Counter(wordcountlist)\n",
    "# 結果をカウント数の降順にソート\n",
    "print(sorted(cnt.items(), key=lambda x: x[1], reverse=True)[:100])\n",
    "u = np.array(wordcountlist)\n",
    "nstring = u[ np.where(u < 150) ]\n",
    "plt.hist(nstring, bins=nstring.max())\n",
    "plt.title('『吾輩は猫である』文ごとの単語数分布')\n",
    "plt.xlabel('文の単語数')\n",
    "plt.ylabel('出現頻度')\n",
    "plt.show()"
   ]
  },
  {
   "cell_type": "markdown",
   "metadata": {},
   "source": [
    "文の単語数≒文の長さや冗長さ？"
   ]
  }
 ],
 "metadata": {
  "kernelspec": {
   "display_name": "Python 3",
   "language": "python",
   "name": "python3"
  },
  "language_info": {
   "codemirror_mode": {
    "name": "ipython",
    "version": 3
   },
   "file_extension": ".py",
   "mimetype": "text/x-python",
   "name": "python",
   "nbconvert_exporter": "python",
   "pygments_lexer": "ipython3",
   "version": "3.6.4"
  }
 },
 "nbformat": 4,
 "nbformat_minor": 2
}
