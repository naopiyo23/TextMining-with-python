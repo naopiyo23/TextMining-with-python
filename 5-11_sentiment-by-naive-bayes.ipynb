{
 "cells": [
  {
   "cell_type": "markdown",
   "metadata": {},
   "source": [
    "# 機械学習を使った感情値判定システム"
   ]
  },
  {
   "cell_type": "code",
   "execution_count": 2,
   "metadata": {},
   "outputs": [],
   "source": [
    "# -*- coding: utf-8 -*-\n",
    "# リスト 5-11 機械学習を使った感情判定\n",
    "from nltk.tokenize import word_tokenize\n",
    "from nltk.classify import NaiveBayesClassifier\n",
    "from nltk.classify.util import accuracy"
   ]
  },
  {
   "cell_type": "code",
   "execution_count": 3,
   "metadata": {},
   "outputs": [],
   "source": [
    "def format_sentense(sentense):\n",
    "    return {word: True for word in word_tokenize(sentense) }"
   ]
  },
  {
   "cell_type": "code",
   "execution_count": 4,
   "metadata": {},
   "outputs": [],
   "source": [
    "pos_data = []\n",
    "with open('rt-polaritydata/rt-polarity.pos', encoding='latin-1') as f:\n",
    "    for line in f:\n",
    "        pos_data.append([format_sentense(line), 'pos'])\n",
    "neg_data = []\n",
    "with open('rt-polaritydata/rt-polarity.neg', encoding='latin-1') as f:\n",
    "    for line in f:\n",
    "        neg_data.append([format_sentense(line), 'neg'])"
   ]
  },
  {
   "cell_type": "code",
   "execution_count": 5,
   "metadata": {},
   "outputs": [],
   "source": [
    "# 学習データはそれぞれ前半4,000文ずつ\n",
    "training_data = pos_data[:4000] + neg_data[:4000]\n",
    "# 評価データはそれぞれ4,000以降の文\n",
    "testing_data = pos_data[4000:] + neg_data[4000:]"
   ]
  },
  {
   "cell_type": "code",
   "execution_count": 6,
   "metadata": {},
   "outputs": [
    {
     "name": "stdout",
     "output_type": "stream",
     "text": [
      "This is a nice article ---> pos\n",
      "This is a bad article ---> neg\n",
      "accuracy 0.7772351615326822\n"
     ]
    }
   ],
   "source": [
    "# training_dataを使って分類気を作る\n",
    "model = NaiveBayesClassifier.train(training_data)\n",
    "\n",
    "s1 = 'This is a nice article'\n",
    "s2 = 'This is a bad article'\n",
    "print( s1, '--->', model.classify(format_sentense(s1)) )  # 2つの文例s1、s2で試す\n",
    "print( s2, '--->', model.classify(format_sentense(s2)) )\n",
    "\n",
    "print('accuracy', accuracy(model, testing_data))  # testing_dataを使って精度計算"
   ]
  }
 ],
 "metadata": {
  "kernelspec": {
   "display_name": "Python 3",
   "language": "python",
   "name": "python3"
  },
  "language_info": {
   "codemirror_mode": {
    "name": "ipython",
    "version": 3
   },
   "file_extension": ".py",
   "mimetype": "text/x-python",
   "name": "python",
   "nbconvert_exporter": "python",
   "pygments_lexer": "ipython3",
   "version": "3.6.4"
  }
 },
 "nbformat": 4,
 "nbformat_minor": 2
}
