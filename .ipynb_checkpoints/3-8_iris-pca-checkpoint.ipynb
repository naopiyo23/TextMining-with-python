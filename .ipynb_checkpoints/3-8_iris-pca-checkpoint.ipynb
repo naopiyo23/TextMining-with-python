{
 "cells": [
  {
   "cell_type": "markdown",
   "metadata": {},
   "source": [
    "# 主成分分析"
   ]
  },
  {
   "cell_type": "code",
   "execution_count": 1,
   "metadata": {},
   "outputs": [],
   "source": [
    "# -*- coding: utf-8 -*-\n",
    "# リスト 3-8 iris の主成分分析のプログラム例\n",
    "import numpy as np\n",
    "import pandas as pd\n",
    "from sklearn.decomposition import PCA\n",
    "from sklearn.datasets import load_iris\n",
    "from matplotlib import pyplot as plt"
   ]
  },
  {
   "cell_type": "code",
   "execution_count": 5,
   "metadata": {},
   "outputs": [],
   "source": [
    "colors = ['red', 'blue', 'green' ]\n",
    "markers = ['x', 'point', 'plus' ]\n",
    "# データを準備\n",
    "iris = load_iris()  # scikit-learnのデータライブラリからirisを読み込む\n",
    "species = ['Setosa', 'Versicolour', 'Virginica']"
   ]
  },
  {
   "cell_type": "code",
   "execution_count": 8,
   "metadata": {},
   "outputs": [
    {
     "name": "stdout",
     "output_type": "stream",
     "text": [
      "主成分 [[ 0.36158968 -0.08226889  0.85657211  0.35884393]\n",
      " [ 0.65653988  0.72971237 -0.1757674  -0.07470647]\n",
      " [-0.58099728  0.59641809  0.07252408  0.54906091]\n",
      " [ 0.31725455 -0.32409435 -0.47971899  0.75112056]]\n",
      "平均 [5.84333333 3.054      3.75866667 1.19866667]\n",
      "分散 [4.22484077 0.24224357 0.07852391 0.02368303]\n",
      "寄与率 [0.92461621 0.05301557 0.01718514 0.00518309]\n",
      "累積寄与率 [0.92461621 0.97763178 0.99481691 1.        ]\n"
     ]
    }
   ],
   "source": [
    "# データ部分を取り出す\n",
    "irisdata = pd.DataFrame(iris.data, columns=iris.feature_names)\n",
    "# どの種かの情報を取り出す\n",
    "iristarget = pd.DataFrame(iris.target, columns=['target'])\n",
    "irispd = pd.concat([irisdata, iristarget], axis=1)  # 結合する\n",
    "pca = PCA(n_components = 4)       # PCAクラスのインスタンス生成、成分数を4にする\n",
    "pca.fit(irisdata)                 # データ部分だけを主成分分析に与えて解析する\n",
    "\n",
    "print('主成分', pca.components_)  # 結果を表示\n",
    "print('平均', pca.mean_)\n",
    "print('分散', pca.explained_variance_ )\n",
    "print('寄与率', pca.explained_variance_ratio_)\n",
    "print('累積寄与率', np.cumsum(pca.explained_variance_ratio_))"
   ]
  },
  {
   "cell_type": "code",
   "execution_count": 3,
   "metadata": {},
   "outputs": [
    {
     "data": {
      "image/png": "[encoded data removed]",
      "text/plain": [
       "<matplotlib.figure.Figure at 0x1c0db69f4a8>"
      ]
     },
     "metadata": {},
     "output_type": "display_data"
    }
   ],
   "source": [
    "# 主成分に変換したデータ点をプロットする。表示色を変えるために種ごとに分けて処理する\n",
    "transformed0 = pca.transform(irisdata[irispd.target==0])\n",
    "transformed1 = pca.transform(irisdata[irispd.target==1])\n",
    "transformed2 = pca.transform(irisdata[irispd.target==2])\n",
    "# scatterメソッドは、xとyを位置の揃った別のリストとして受け取るので、合うように加工\n",
    "plt.scatter([u[0] for u in transformed0], [u[1] for u in transformed0], c='red', \\\n",
    "             label=species[0], marker='x')\n",
    "plt.scatter([u[0] for u in transformed1], [u[1] for u in transformed1], c='blue', \\\n",
    "    label=species[1], marker='.')\n",
    "plt.scatter([u[0] for u in transformed2], [u[1] for u in transformed2], c='green', \\\n",
    "    label=species[2], marker='+')\n",
    "plt.title('irisデータの主成分分析')\n",
    "plt.xlabel('pc1')\n",
    "plt.ylabel('pc2')\n",
    "plt.legend()\n",
    "plt.show()"
   ]
  }
 ],
 "metadata": {
  "kernelspec": {
   "display_name": "Python 3",
   "language": "python",
   "name": "python3"
  },
  "language_info": {
   "codemirror_mode": {
    "name": "ipython",
    "version": 3
   },
   "file_extension": ".py",
   "mimetype": "text/x-python",
   "name": "python",
   "nbconvert_exporter": "python",
   "pygments_lexer": "ipython3",
   "version": "3.6.4"
  }
 },
 "nbformat": 4,
 "nbformat_minor": 2
}
